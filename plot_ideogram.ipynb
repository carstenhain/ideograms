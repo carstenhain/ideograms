{
 "cells": [
  {
   "cell_type": "code",
   "execution_count": 2,
   "id": "742040ff-dd16-477a-a17d-3bef7bc3b731",
   "metadata": {},
   "outputs": [],
   "source": [
    "import pandas as pd\n",
    "import svgwrite"
   ]
  },
  {
   "cell_type": "code",
   "execution_count": 5,
   "id": "5dfee62c-b442-410b-a748-ea6db15bf907",
   "metadata": {},
   "outputs": [],
   "source": [
    "ideogram_df = pd.read_csv(\"hg38.ideogram.txt\", sep=\"\\t\")"
   ]
  },
  {
   "cell_type": "code",
   "execution_count": 86,
   "id": "6bf303fa-5307-483b-86be-5f523b7facc5",
   "metadata": {},
   "outputs": [],
   "source": [
    "gie_color = {}\n",
    "gie_color[\"gpos25\"] = \"#C8C8C8\"\n",
    "gie_color[\"gpos25_high\"] = \"#DCDCDC\"\n",
    "gie_color[\"gpos50\"] = \"#C8C8C8\"\n",
    "gie_color[\"gpos50_high\"] = \"#DCDCDC\"\n",
    "gie_color[\"gpos75\"] = \"#828282\"\n",
    "gie_color[\"gpos75_high\"] = \"#C6C6C6\"\n",
    "gie_color[\"gpos100\"] = \"#000000\"\n",
    "gie_color[\"gpos100_high\"] = \"#444444\"\n",
    "gie_color[\"gneg\"] = \"#FFFFFF\"\n",
    "gie_color[\"gneg_high\"] = \"#FFFFFF\"\n",
    "gie_color[\"acen\"] = \"#D92F27\"\n",
    "gie_color[\"acen_high\"] = \"#F7574F\"\n",
    "gie_color[\"gvar\"] = \"#AAAAFF\"\n",
    "gie_color[\"gvar_high\"] = \"#CCCCFF\"\n",
    "gie_color[\"stalk\"] = \"#647FA4\"\n",
    "gie_color[\"stalk_high\"] = \"#647FA4\""
   ]
  },
  {
   "cell_type": "code",
   "execution_count": 89,
   "id": "bd09bb5a-7e6b-4b81-9ab9-5a9299fbefe6",
   "metadata": {},
   "outputs": [],
   "source": [
    "scaling = 100000"
   ]
  },
  {
   "cell_type": "code",
   "execution_count": 39,
   "id": "d2761cc7-4913-4bc8-a792-cff2b6b48226",
   "metadata": {},
   "outputs": [],
   "source": [
    "chromosomes = [f\"chr{x}\" for x in range(1, 23)] + [\"chrX\", \"chrY\"]"
   ]
  },
  {
   "cell_type": "code",
   "execution_count": 88,
   "id": "4c409a93-a899-49fc-aef0-fd6ae7846e6f",
   "metadata": {},
   "outputs": [],
   "source": [
    "for chrom in chromosomes:\n",
    "    \n",
    "    chrom_df = ideogram_df[ideogram_df[\"#chrom\"] == chrom].reset_index()\n",
    "    \n",
    "    dwg = svgwrite.Drawing(f\"{chrom}.svg\", size=(chrom_df[\"chromEnd\"].max() / scaling, 100))\n",
    "\n",
    "    ### make rounded rectangle as borders and use those for clipping\n",
    "    # P\n",
    "    rounded_rect_p = dwg.rect(\n",
    "        insert=(0 / scaling, 0), \n",
    "        size=(chrom_df[chrom_df[\"gieStain\"] == \"acen\"][\"chromEnd\"].min() / scaling, 100), \n",
    "        fill = \"none\",\n",
    "        stroke=\"black\", \n",
    "        stroke_width=2,\n",
    "        rx = 30, ry = 30\n",
    "    )\n",
    "    # Q\n",
    "    rounded_rect_q = dwg.rect(\n",
    "        insert=(chrom_df[chrom_df[\"gieStain\"] == \"acen\"][\"chromStart\"].max() / scaling, 0), \n",
    "        size=((chrom_df[\"chromEnd\"].max() - chrom_df[chrom_df[\"gieStain\"] == \"acen\"][\"chromStart\"].max()) / scaling, 100), \n",
    "        fill = \"none\",\n",
    "        stroke=\"black\", \n",
    "        stroke_width=2,\n",
    "        rx = 30, ry = 30\n",
    "    )  \n",
    "\n",
    "    for gie_stain in gie_color:\n",
    "        if not gie_stain.endswith(\"_high\"):\n",
    "            # make pretty gradient\n",
    "            grad = dwg.linearGradient(start=(\"0%\", \"0%\"), end=(\"0%\", \"100%\"), id=f\"grad_{gie_stain}\")\n",
    "            # Add color stops: top, middle, bottom\n",
    "            grad.add_stop_color(0.0, gie_color[gie_stain])   # Top\n",
    "            grad.add_stop_color(0.4, gie_color[f\"{gie_stain}_high\"])  # Middle\n",
    "            grad.add_stop_color(0.5, gie_color[f\"{gie_stain}_high\"])  # Middle\n",
    "            grad.add_stop_color(0.6, gie_color[f\"{gie_stain}_high\"])  # Middle\n",
    "            grad.add_stop_color(1.0, gie_color[gie_stain])   # Bottom\n",
    "\n",
    "            dwg.defs.add(grad)\n",
    "        \n",
    "    \n",
    "    for idx, row in chrom_df.iterrows():\n",
    "\n",
    "        # make rectangle for one stained region\n",
    "        stained_region = dwg.rect(\n",
    "            insert=(row[\"chromStart\"] / scaling, 0), \n",
    "            size=((row[\"chromEnd\"] - row[\"chromStart\"]) / scaling, 100), \n",
    "            #fill=gie_color[row[\"gieStain\"]],\n",
    "            fill=f\"url(#grad_{row['gieStain']})\",\n",
    "            id=row[\"name\"]\n",
    "        )\n",
    "\n",
    "        # Define a clipPath\n",
    "        clip = dwg.defs.add(dwg.clipPath(id=f\"rounded_clip_{row['name']}\"))\n",
    "        if row[\"name\"].startswith(\"p\"):\n",
    "            clip.add(rounded_rect_p)\n",
    "        else:\n",
    "            clip.add(rounded_rect_q)\n",
    "\n",
    "        # add clip to stained region\n",
    "        stained_region['clip-path'] = f\"url(#rounded_clip_{row['name']})\"\n",
    "\n",
    "        dwg.add(stained_region)\n",
    "\n",
    "    ### add rounded rectangle as border\n",
    "    dwg.add(rounded_rect_p)\n",
    "    dwg.add(rounded_rect_q)\n",
    "    \n",
    "    dwg.save()"
   ]
  }
 ],
 "metadata": {
  "kernelspec": {
   "display_name": "Python 3 (ipykernel)",
   "language": "python",
   "name": "python3"
  },
  "language_info": {
   "codemirror_mode": {
    "name": "ipython",
    "version": 3
   },
   "file_extension": ".py",
   "mimetype": "text/x-python",
   "name": "python",
   "nbconvert_exporter": "python",
   "pygments_lexer": "ipython3",
   "version": "3.9.18"
  }
 },
 "nbformat": 4,
 "nbformat_minor": 5
}
